{
  "nbformat": 4,
  "nbformat_minor": 0,
  "metadata": {
    "colab": {
      "name": "Fibonacci series.ipynb",
      "provenance": [],
      "authorship_tag": "ABX9TyOaZS5oicb2fgZBbxuPH/Tx",
      "include_colab_link": true
    },
    "kernelspec": {
      "name": "python3",
      "display_name": "Python 3"
    },
    "language_info": {
      "name": "python"
    }
  },
  "cells": [
    {
      "cell_type": "markdown",
      "metadata": {
        "id": "view-in-github",
        "colab_type": "text"
      },
      "source": [
        "<a href=\"https://colab.research.google.com/github/ihsanulcode/Python3/blob/main/Fibonacci_series.ipynb\" target=\"_parent\"><img src=\"https://colab.research.google.com/assets/colab-badge.svg\" alt=\"Open In Colab\"/></a>"
      ]
    },
    {
      "cell_type": "code",
      "metadata": {
        "colab": {
          "base_uri": "https://localhost:8080/"
        },
        "id": "mukgjsJlO1qC",
        "outputId": "a04dc361-4df3-4f7e-ad52-5a5ff9dc44ef"
      },
      "source": [
        "n = int(input(\"Enter n: \"))\n",
        "\n",
        "fib1 = 0\n",
        "fib2 = 1\n",
        "\n",
        "if n <= 0:  \n",
        "   print(\"Plese enter a positive integer\")\n",
        "else:\n",
        "  for num in range(1,n+1):\n",
        "    print(str(fib1),end=\" \")\n",
        "    result = fib1 + fib2\n",
        "    fib1 = fib2\n",
        "    fib2 = result\n"
      ],
      "execution_count": 17,
      "outputs": [
        {
          "output_type": "stream",
          "text": [
            "Enter n: 12\n",
            "0 1 1 2 3 5 8 13 21 34 55 89 "
          ],
          "name": "stdout"
        }
      ]
    }
  ]
}