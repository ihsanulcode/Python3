{
  "nbformat": 4,
  "nbformat_minor": 0,
  "metadata": {
    "colab": {
      "name": "String strip function.ipynb",
      "provenance": [],
      "authorship_tag": "ABX9TyNlQHfgE+w3ItDcSkd+hjCn",
      "include_colab_link": true
    },
    "kernelspec": {
      "name": "python3",
      "display_name": "Python 3"
    },
    "language_info": {
      "name": "python"
    }
  },
  "cells": [
    {
      "cell_type": "markdown",
      "metadata": {
        "id": "view-in-github",
        "colab_type": "text"
      },
      "source": [
        "<a href=\"https://colab.research.google.com/github/ihsanulcode/Python3/blob/main/String_strip_function.ipynb\" target=\"_parent\"><img src=\"https://colab.research.google.com/assets/colab-badge.svg\" alt=\"Open In Colab\"/></a>"
      ]
    },
    {
      "cell_type": "code",
      "metadata": {
        "colab": {
          "base_uri": "https://localhost:8080/"
        },
        "id": "fsTVjQseA4FF",
        "outputId": "5b5f24ec-a52b-4519-c23b-3349cec04f52"
      },
      "source": [
        "txt = \"        python, C, C++       \"\n",
        "s = txt.rstrip()\n",
        "print(\"I love\", s, \"this is my favorite language\")"
      ],
      "execution_count": 7,
      "outputs": [
        {
          "output_type": "stream",
          "text": [
            "I love         python, C, C++ this is my favorite language\n"
          ],
          "name": "stdout"
        }
      ]
    },
    {
      "cell_type": "code",
      "metadata": {
        "colab": {
          "base_uri": "https://localhost:8080/"
        },
        "id": "cpLVZX7KBm26",
        "outputId": "90e5441f-e3d1-4c92-cedc-328d0a51487d"
      },
      "source": [
        "txt = \"        python, C, C++       \"\n",
        "s = txt.lstrip()\n",
        "print(\"I love\", s, \"this is my favorite\")"
      ],
      "execution_count": 8,
      "outputs": [
        {
          "output_type": "stream",
          "text": [
            "I love python, C, C++        this is my favorite\n"
          ],
          "name": "stdout"
        }
      ]
    },
    {
      "cell_type": "code",
      "metadata": {
        "colab": {
          "base_uri": "https://localhost:8080/"
        },
        "id": "vOFJvfUhBxKq",
        "outputId": "53e65414-1901-47aa-f904-56cb53237117"
      },
      "source": [
        "txt = \"        python, C, C++       \"\n",
        "s = txt.strip()\n",
        "print(\"I love\", s, \"this is my favorite\")"
      ],
      "execution_count": 9,
      "outputs": [
        {
          "output_type": "stream",
          "text": [
            "I love python, C, C++ this is my favorite\n"
          ],
          "name": "stdout"
        }
      ]
    }
  ]
}