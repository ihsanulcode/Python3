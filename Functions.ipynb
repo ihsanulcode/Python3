{
  "nbformat": 4,
  "nbformat_minor": 0,
  "metadata": {
    "colab": {
      "name": "Functions.ipynb",
      "provenance": [],
      "authorship_tag": "ABX9TyN+jWlUrZLS91TmS1erJiWI",
      "include_colab_link": true
    },
    "kernelspec": {
      "name": "python3",
      "display_name": "Python 3"
    },
    "language_info": {
      "name": "python"
    }
  },
  "cells": [
    {
      "cell_type": "markdown",
      "metadata": {
        "id": "view-in-github",
        "colab_type": "text"
      },
      "source": [
        "<a href=\"https://colab.research.google.com/github/ihsanulcode/Python3/blob/main/Functions.ipynb\" target=\"_parent\"><img src=\"https://colab.research.google.com/assets/colab-badge.svg\" alt=\"Open In Colab\"/></a>"
      ]
    },
    {
      "cell_type": "code",
      "metadata": {
        "colab": {
          "base_uri": "https://localhost:8080/"
        },
        "id": "Uc8HApz_TMT0",
        "outputId": "8621cad2-4cf9-4610-e88b-8f253de467d9"
      },
      "source": [
        "def my_function():\n",
        "  print(\"Hello from a function\")\n",
        "my_function()"
      ],
      "execution_count": 2,
      "outputs": [
        {
          "output_type": "stream",
          "text": [
            "Hello from a function\n"
          ],
          "name": "stdout"
        }
      ]
    },
    {
      "cell_type": "code",
      "metadata": {
        "colab": {
          "base_uri": "https://localhost:8080/"
        },
        "id": "J8N4PFfPT8ja",
        "outputId": "8ec8c2b3-b11f-4431-edb3-db927f5f0c05"
      },
      "source": [
        "#Arbitrary Arguments, *args\n",
        "def my_function(*kids):\n",
        "  print(\"The youngest child is \" + kids[1])\n",
        "\n",
        "my_function(\"Emil\", \"Tobias\", \"Linus\")"
      ],
      "execution_count": 19,
      "outputs": [
        {
          "output_type": "stream",
          "text": [
            "The youngest child is Tobias\n"
          ],
          "name": "stdout"
        }
      ]
    },
    {
      "cell_type": "code",
      "metadata": {
        "colab": {
          "base_uri": "https://localhost:8080/"
        },
        "id": "jVfgp_OyUMM_",
        "outputId": "da18fe86-4f82-4913-8794-70a369ab68ad"
      },
      "source": [
        "def my_function(**kid):\n",
        "  print(\"His last name is \" + kid[\"lname\"])\n",
        "\n",
        "my_function(fname = \"Tobias\", lname = \"Refsnes\")"
      ],
      "execution_count": 6,
      "outputs": [
        {
          "output_type": "stream",
          "text": [
            "His last name is Refsnes\n"
          ],
          "name": "stdout"
        }
      ]
    },
    {
      "cell_type": "code",
      "metadata": {
        "colab": {
          "base_uri": "https://localhost:8080/"
        },
        "id": "0yFZYewDUUBF",
        "outputId": "3312934d-4634-42fd-e1a2-7ebeed40090d"
      },
      "source": [
        "#Default Parameter Value\n",
        "def my_function(country = \"Bangladesh\"):\n",
        "  print(\"I am from \" + country)\n",
        "\n",
        "my_function(\"Sweden\")\n",
        "my_function(\"India\")\n",
        "my_function()\n",
        "my_function(\"Brazil\")"
      ],
      "execution_count": 9,
      "outputs": [
        {
          "output_type": "stream",
          "text": [
            "I am from Sweden\n",
            "I am from India\n",
            "I am from Bangladesh\n",
            "I am from Brazil\n"
          ],
          "name": "stdout"
        }
      ]
    },
    {
      "cell_type": "code",
      "metadata": {
        "colab": {
          "base_uri": "https://localhost:8080/"
        },
        "id": "meK_b5lWU7um",
        "outputId": "22c16c81-c57c-4a31-a5d0-1a9e2752938d"
      },
      "source": [
        "#Keyword Arguments\n",
        "def mycourses(course1,course2,course3):\n",
        "  print(\"My courses are: \"+course1+\", \"+course2+\", \"+course3)\n",
        "mycourses(course1 = \"CSE231\", course2 = \"MAT350\", course3 = \"EEE141\")"
      ],
      "execution_count": 11,
      "outputs": [
        {
          "output_type": "stream",
          "text": [
            "My courses are: CSE231, MAT350, EEE141\n"
          ],
          "name": "stdout"
        }
      ]
    },
    {
      "cell_type": "code",
      "metadata": {
        "colab": {
          "base_uri": "https://localhost:8080/"
        },
        "id": "HFx9Z25yV0oO",
        "outputId": "87f6499a-9b3d-4420-de99-a57614038026"
      },
      "source": [
        "#Arbitrary Keyword Arguments, **kwargs\n",
        "def mycourses(**course):\n",
        "  for i in course:\n",
        "    print(course[i])\n",
        "mycourses(course1 = \"CSE231\", course2 = \"MAT350\", course3 = \"EEE141\")"
      ],
      "execution_count": 17,
      "outputs": [
        {
          "output_type": "stream",
          "text": [
            "CSE231\n",
            "MAT350\n",
            "EEE141\n"
          ],
          "name": "stdout"
        }
      ]
    },
    {
      "cell_type": "code",
      "metadata": {
        "colab": {
          "base_uri": "https://localhost:8080/"
        },
        "id": "E0osB26gWtpk",
        "outputId": "82ebcca7-4d18-45a0-bc17-8b0bf823f3ee"
      },
      "source": [
        "#passing list as an argument\n",
        "def mycourses(courses):\n",
        "  for i in courses:\n",
        "    print(i+\" \")\n",
        "\n",
        "courses = [\"CSE115\",\"CSE215\",\"CSE225\",\"CSE231\"]\n",
        "mycourses(courses)"
      ],
      "execution_count": 22,
      "outputs": [
        {
          "output_type": "stream",
          "text": [
            "CSE115 \n",
            "CSE215 \n",
            "CSE225 \n",
            "CSE231 \n"
          ],
          "name": "stdout"
        }
      ]
    }
  ]
}