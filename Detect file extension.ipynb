{
  "nbformat": 4,
  "nbformat_minor": 0,
  "metadata": {
    "colab": {
      "name": "Untitled1.ipynb",
      "provenance": [],
      "authorship_tag": "ABX9TyMXOMy4Nw4xZnv61ZFkqo9z",
      "include_colab_link": true
    },
    "kernelspec": {
      "name": "python3",
      "display_name": "Python 3"
    },
    "language_info": {
      "name": "python"
    }
  },
  "cells": [
    {
      "cell_type": "markdown",
      "metadata": {
        "id": "view-in-github",
        "colab_type": "text"
      },
      "source": [
        "<a href=\"https://colab.research.google.com/github/ihsanulcode/Python3/blob/main/Detect%20file%20extension.ipynb\" target=\"_parent\"><img src=\"https://colab.research.google.com/assets/colab-badge.svg\" alt=\"Open In Colab\"/></a>"
      ]
    },
    {
      "cell_type": "code",
      "metadata": {
        "colab": {
          "base_uri": "https://localhost:8080/"
        },
        "id": "xl2gLsjY7l5u",
        "outputId": "e6593d76-6b46-458f-c931-b85ec7004184"
      },
      "source": [
        "#read file name\n",
        "fileName = str(input(\"Enter file name: \"))\n",
        "extension = fileName.split(\".\")\n",
        "print(\"File extension is: \"+extension[-1])"
      ],
      "execution_count": 5,
      "outputs": [
        {
          "output_type": "stream",
          "text": [
            "Enter file name: car.java\n",
            "File extension is: java\n"
          ],
          "name": "stdout"
        }
      ]
    }
  ]
}