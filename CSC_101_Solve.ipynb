{
  "nbformat": 4,
  "nbformat_minor": 0,
  "metadata": {
    "colab": {
      "name": "CSC 101 Solve.ipynb",
      "provenance": [],
      "authorship_tag": "ABX9TyObMGfK8cs0iOg+1RiqvQtC",
      "include_colab_link": true
    },
    "kernelspec": {
      "name": "python3",
      "display_name": "Python 3"
    },
    "language_info": {
      "name": "python"
    }
  },
  "cells": [
    {
      "cell_type": "markdown",
      "metadata": {
        "id": "view-in-github",
        "colab_type": "text"
      },
      "source": [
        "<a href=\"https://colab.research.google.com/github/ihsanulcode/Python3/blob/main/CSC_101_Solve.ipynb\" target=\"_parent\"><img src=\"https://colab.research.google.com/assets/colab-badge.svg\" alt=\"Open In Colab\"/></a>"
      ]
    },
    {
      "cell_type": "code",
      "metadata": {
        "colab": {
          "base_uri": "https://localhost:8080/"
        },
        "id": "es81h7GBC69y",
        "outputId": "04a9e616-2759-484e-8cdd-d0df37baf639"
      },
      "source": [
        "#[1]\n",
        "#Write a function named dice_sum that prompts the user for a desired sum,\n",
        "#then repeatedly rolls two six-sided dice until their sum is the desired sum.\n",
        "\n",
        "import random\n",
        "def dice_sum(n):\n",
        "  sum = 0\n",
        "  while True:\n",
        "    dice1 = random.randint(1,6)\n",
        "    dice2 = random.randint(1,6)\n",
        "    sum += dice1+dice2\n",
        "    print(str(dice1)+\" and \"+str(dice2)+\" = \"+str(sum))\n",
        "    if(sum==n):\n",
        "      break\n",
        "    sum = 0\n",
        "\n",
        "n = int(input(\"Desired dice sum: \"))\n",
        "dice_sum(n)"
      ],
      "execution_count": 24,
      "outputs": [
        {
          "output_type": "stream",
          "text": [
            "Desired dice sum: 9\n",
            "1 and 5 = 6\n",
            "6 and 6 = 12\n",
            "3 and 3 = 6\n",
            "4 and 5 = 9\n"
          ],
          "name": "stdout"
        }
      ]
    },
    {
      "cell_type": "code",
      "metadata": {
        "colab": {
          "base_uri": "https://localhost:8080/"
        },
        "id": "CZohnXG9DKa8",
        "outputId": "0a25f047-c374-42d4-cec9-94db0e4c15b6"
      },
      "source": [
        "#[2]\n",
        "#Write a function named digit_sum that accepts an integer as a parameter and returns the sum of the digits of that number\n",
        "\n",
        "def digit_sum(n):\n",
        "  sum = 0\n",
        "  while(n!=0):\n",
        "    sum += (n%10)\n",
        "    n = n//10\n",
        "  return sum\n",
        "\n",
        "n = int(input(\"Enter an integer: \"))\n",
        "print(digit_sum(abs(n)))"
      ],
      "execution_count": 22,
      "outputs": [
        {
          "output_type": "stream",
          "text": [
            "Enter an integer: 29107\n",
            "19\n"
          ],
          "name": "stdout"
        }
      ]
    },
    {
      "cell_type": "code",
      "metadata": {
        "colab": {
          "base_uri": "https://localhost:8080/"
        },
        "id": "41zBgbZ3Eo0c",
        "outputId": "7e0151ed-db3e-44db-d92e-32e3905213a5"
      },
      "source": [
        "#[3]\n",
        "#What is the output of the following loop?\n",
        "\n",
        "print(\"+---+\")\n",
        "for i in range(1, 4):\n",
        "  print(\"\\\\   /\")\n",
        "  print(\"/   \\\\\")\n",
        "print(\"+---+\")"
      ],
      "execution_count": 13,
      "outputs": [
        {
          "output_type": "stream",
          "text": [
            "+---+\n",
            "\\   /\n",
            "/   \\\n",
            "\\   /\n",
            "/   \\\n",
            "\\   /\n",
            "/   \\\n",
            "+---+\n"
          ],
          "name": "stdout"
        }
      ]
    },
    {
      "cell_type": "code",
      "metadata": {
        "colab": {
          "base_uri": "https://localhost:8080/"
        },
        "id": "2WBMthxmFhXM",
        "outputId": "01f7e78d-9f61-437a-99e5-9883e3426122"
      },
      "source": [
        "#[4]\n",
        "#Convert each of the following for loops into an equivalent while loop.\n",
        "#(You might need to rename some variables for the code to compile, since all four parts a-d are in the same scope.)\n",
        "\n",
        "#a.\n",
        "print(\"a.\")\n",
        "maxs = 5\n",
        "n = 1\n",
        "while n<=5:\n",
        "  print(n)\n",
        "  n+=1\n",
        "print() \n",
        "\n",
        "#b.\n",
        "print(\"b.\")\n",
        "total = 25\n",
        "number = 1\n",
        "while number <= total// 5 :\n",
        "  total = total-number\n",
        "  print(total, number)\n",
        "  number+=1\n",
        "print()\n",
        "\n",
        "#c.\n",
        "print(\"c.\")\n",
        "i = 1\n",
        "j = 1\n",
        "k = 1\n",
        "while i<=2:\n",
        "  while j<=3:\n",
        "    while k<=4:\n",
        "      print(\"*\",end=\"\")\n",
        "      k+=1\n",
        "    print(\"!\",end=\"\")\n",
        "    j+=1\n",
        "  print()\n",
        "  i+=1"
      ],
      "execution_count": 35,
      "outputs": [
        {
          "output_type": "stream",
          "text": [
            "a.\n",
            "1\n",
            "2\n",
            "3\n",
            "4\n",
            "5\n",
            "\n",
            "b.\n",
            "24 1\n",
            "22 2\n",
            "19 3\n",
            "\n",
            "c.\n",
            "****!!!\n",
            "\n"
          ],
          "name": "stdout"
        }
      ]
    },
    {
      "cell_type": "code",
      "metadata": {
        "colab": {
          "base_uri": "https://localhost:8080/"
        },
        "id": "gYxo8i8vGSEF",
        "outputId": "703616b7-4dd8-4338-87e0-f0a03d93c3a9"
      },
      "source": [
        "#[5]\n",
        "#Write a function named floyds_triangle that accepts an integer k as a parameter and prints a k-row version of Floyd's triangle.\n",
        "\n",
        "def floyds_triangle(n):\n",
        "  count = 1\n",
        "  for row in range(1,n+1):\n",
        "    for col in range(1,row+1):\n",
        "      print(str(count)+\" \",end=\" \")\n",
        "      count+=1\n",
        "    print()\n",
        "\n",
        "floyds_triangle(5)"
      ],
      "execution_count": 19,
      "outputs": [
        {
          "output_type": "stream",
          "text": [
            "1  \n",
            "2  3  \n",
            "4  5  6  \n",
            "7  8  9  10  \n",
            "11  12  13  14  15  \n"
          ],
          "name": "stdout"
        }
      ]
    }
  ]
}