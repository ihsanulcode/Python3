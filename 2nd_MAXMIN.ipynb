{
  "nbformat": 4,
  "nbformat_minor": 0,
  "metadata": {
    "colab": {
      "name": "2nd MAXMIN.ipynb",
      "provenance": [],
      "authorship_tag": "ABX9TyPJ02Hizl/yk6jzKLZw2d4r",
      "include_colab_link": true
    },
    "kernelspec": {
      "name": "python3",
      "display_name": "Python 3"
    },
    "language_info": {
      "name": "python"
    }
  },
  "cells": [
    {
      "cell_type": "markdown",
      "metadata": {
        "id": "view-in-github",
        "colab_type": "text"
      },
      "source": [
        "<a href=\"https://colab.research.google.com/github/ihsanulcode/Python3/blob/main/2nd_MAXMIN.ipynb\" target=\"_parent\"><img src=\"https://colab.research.google.com/assets/colab-badge.svg\" alt=\"Open In Colab\"/></a>"
      ]
    },
    {
      "cell_type": "code",
      "metadata": {
        "colab": {
          "base_uri": "https://localhost:8080/"
        },
        "id": "CwX4f7GwKR1i",
        "outputId": "6d2e6141-ff6a-41bf-ddd5-2508fc9ff8ae"
      },
      "source": [
        "list = []\n",
        "for i in range(1,6):\n",
        "    n = int(input())\n",
        "    list.append(n)\n",
        "newlist = set(list)\n",
        "newlist.remove(max(newlist))\n",
        "newlist.remove(min(newlist))\n",
        "print(max(newlist))\n",
        "print(min(newlist))\n"
      ],
      "execution_count": 4,
      "outputs": [
        {
          "output_type": "stream",
          "text": [
            "55\n",
            "22\n",
            "85\n",
            "69\n",
            "25\n",
            "69\n",
            "25\n"
          ],
          "name": "stdout"
        }
      ]
    }
  ]
}