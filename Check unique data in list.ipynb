{
  "nbformat": 4,
  "nbformat_minor": 0,
  "metadata": {
    "colab": {
      "name": "Untitled2.ipynb",
      "provenance": [],
      "authorship_tag": "ABX9TyNf6f6XFYPCsIsPZ4I06lJl",
      "include_colab_link": true
    },
    "kernelspec": {
      "name": "python3",
      "display_name": "Python 3"
    },
    "language_info": {
      "name": "python"
    }
  },
  "cells": [
    {
      "cell_type": "markdown",
      "metadata": {
        "id": "view-in-github",
        "colab_type": "text"
      },
      "source": [
        "<a href=\"https://colab.research.google.com/github/ihsanulcode/Python3/blob/main/Check%20unique%20data%20in%20list.ipynb\" target=\"_parent\"><img src=\"https://colab.research.google.com/assets/colab-badge.svg\" alt=\"Open In Colab\"/></a>"
      ]
    },
    {
      "cell_type": "code",
      "metadata": {
        "colab": {
          "base_uri": "https://localhost:8080/"
        },
        "id": "wi6SSVDpZzp5",
        "outputId": "a4b408ab-60bc-44ac-843f-3d290ab19a05"
      },
      "source": [
        "#Write a Python function that takes a sequence of numbers and determines whether all the numbers are different from each other.\n",
        "def test_distinct(data):\n",
        "  if len(data) == len(set(data)):\n",
        "    return True\n",
        "  else:\n",
        "    return False;\n",
        "print(test_distinct([1,5,7,9]))\n",
        "print(test_distinct([2,4,5,5,7,9]))\n",
        "\n",
        "print(set([1,1,2,3,2,4,3,5,4,5]))\n",
        "print(set([2,4,5,5,7,9]))"
      ],
      "execution_count": 3,
      "outputs": [
        {
          "output_type": "stream",
          "text": [
            "True\n",
            "False\n",
            "{1, 2, 3, 4, 5}\n",
            "{2, 4, 5, 7, 9}\n"
          ],
          "name": "stdout"
        }
      ]
    },
    {
      "cell_type": "code",
      "metadata": {
        "colab": {
          "base_uri": "https://localhost:8080/"
        },
        "id": "l5hRfFKubpCQ",
        "outputId": "f9c26d55-335f-4a6a-beca-aa187ef49537"
      },
      "source": [
        "#check a whether all the numbers are unique\n",
        "data = [1,1,2,3,2,4,3,5,4,5]\n",
        "if len(data) == len(set(data)):\n",
        "    print(\"Unique\")\n",
        "else:\n",
        "    print(\"Not Unique\")"
      ],
      "execution_count": 7,
      "outputs": [
        {
          "output_type": "stream",
          "text": [
            "Not Unique\n"
          ],
          "name": "stdout"
        }
      ]
    },
    {
      "cell_type": "code",
      "metadata": {
        "colab": {
          "base_uri": "https://localhost:8080/"
        },
        "id": "XmqagoSlcZXX",
        "outputId": "1dc2519e-716b-4470-d750-d25ebc5d76b8"
      },
      "source": [
        "#check a whether all the numbers are unique\n",
        "data = [\"CSE115\",\"CSE215\",\"CSE225\"]\n",
        "if len(data) == len(set(data)):\n",
        "    print(\"Unique\")\n",
        "else:\n",
        "    print(\"Not Unique\")"
      ],
      "execution_count": 8,
      "outputs": [
        {
          "output_type": "stream",
          "text": [
            "Unique\n"
          ],
          "name": "stdout"
        }
      ]
    }
  ]
}