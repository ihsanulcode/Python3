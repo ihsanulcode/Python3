{
  "nbformat": 4,
  "nbformat_minor": 0,
  "metadata": {
    "colab": {
      "name": "Random Numbers.ipynb",
      "provenance": [],
      "authorship_tag": "ABX9TyPVpHvsesCRx9dQSZym0aV8",
      "include_colab_link": true
    },
    "kernelspec": {
      "name": "python3",
      "display_name": "Python 3"
    },
    "language_info": {
      "name": "python"
    }
  },
  "cells": [
    {
      "cell_type": "markdown",
      "metadata": {
        "id": "view-in-github",
        "colab_type": "text"
      },
      "source": [
        "<a href=\"https://colab.research.google.com/github/ihsanulcode/Python3/blob/main/Random_Numbers.ipynb\" target=\"_parent\"><img src=\"https://colab.research.google.com/assets/colab-badge.svg\" alt=\"Open In Colab\"/></a>"
      ]
    },
    {
      "cell_type": "code",
      "metadata": {
        "colab": {
          "base_uri": "https://localhost:8080/"
        },
        "id": "oLuJsZa_YZFM",
        "outputId": "bad74618-87da-49d9-8545-989ee462bde2"
      },
      "source": [
        "import random\n",
        "print(random.randrange(1, 3))"
      ],
      "execution_count": null,
      "outputs": [
        {
          "output_type": "stream",
          "text": [
            "2\n"
          ],
          "name": "stdout"
        }
      ]
    },
    {
      "cell_type": "code",
      "metadata": {
        "colab": {
          "base_uri": "https://localhost:8080/"
        },
        "id": "Wyb7CRXT73y5",
        "outputId": "55e3008c-230e-414b-c44f-56fb4658006a"
      },
      "source": [
        "\n",
        "import random\n",
        "print(\"1. Rock\")\n",
        "print(\"2. Paper\")\n",
        "print(\"3. Sicssor\")\n",
        "player = int(input())\n",
        "computer = random.randrange(1,4)\n",
        "\n",
        "if(player is 1):\n",
        "  if(computer is 1):\n",
        "    print(\"Player: Rock | Computer: Rock\"+\"\\nIt's a draw!\")\n",
        "  elif(computer is 2):\n",
        "    print(\"Player: Rock | Computer: Paper\"+\"\\nComputer win!\")\n",
        "  elif(computer is 3):\n",
        "    print(\"Player: Rock | Computer: Sicssor\"+\"\\nPlayer win!\")\n",
        "elif(player is 2):\n",
        "  if(computer is 1):\n",
        "    print(\"Player: Paper | Computer: Rock\"+\"\\nPlayer win!\")\n",
        "  elif(computer is 2):\n",
        "    print(\"Player: Paper | Computer: Paper\"+\"\\nIt's a draw!\")\n",
        "  elif(computer is 3):\n",
        "    print(\"Player: Paper | Computer: Sicssor\"+\"\\nComputer win!\")\n",
        "elif(player is 3):\n",
        "  if(computer is 1):\n",
        "    print(\"Player: Sicssor | Computer: Rock\"+\"\\nComputer win!\")\n",
        "  elif(computer is 2):\n",
        "    print(\"Player: Sicssor | Computer: Paper\"+\"\\nPlayer win!\")\n",
        "  elif(computer is 3):\n",
        "    print(\"Player: Sicssor | Computer: Sicssor\"+\"\\nIt's a draw!\")\n",
        "else:\n",
        "  print(\"\\nCheating! Play again!\")"
      ],
      "execution_count": 23,
      "outputs": [
        {
          "output_type": "stream",
          "text": [
            "1. Rock\n",
            "2. Paper\n",
            "3. Sicssor\n",
            "2\n",
            "Player: Paper | Computer: Sicssor\n",
            "Computer win!\n"
          ],
          "name": "stdout"
        }
      ]
    }
  ]
}