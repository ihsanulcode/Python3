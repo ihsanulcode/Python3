{
  "nbformat": 4,
  "nbformat_minor": 0,
  "metadata": {
    "colab": {
      "name": "Untitled7.ipynb",
      "provenance": [],
      "authorship_tag": "ABX9TyNIBa8YiI2c7fhboo+Slhl4",
      "include_colab_link": true
    },
    "kernelspec": {
      "name": "python3",
      "display_name": "Python 3"
    },
    "language_info": {
      "name": "python"
    }
  },
  "cells": [
    {
      "cell_type": "markdown",
      "metadata": {
        "id": "view-in-github",
        "colab_type": "text"
      },
      "source": [
        "<a href=\"https://colab.research.google.com/github/ihsanulcode/Python3/blob/main/Median%20of%20list.ipynb\" target=\"_parent\"><img src=\"https://colab.research.google.com/assets/colab-badge.svg\" alt=\"Open In Colab\"/></a>"
      ]
    },
    {
      "cell_type": "code",
      "metadata": {
        "colab": {
          "base_uri": "https://localhost:8080/"
        },
        "id": "lLeJmm2L3-Fp",
        "outputId": "75d41d0c-7d6c-45dc-9dd1-e256ab423a1f"
      },
      "source": [
        "#Write a Python program to calculate the median from a list of numbers.\n",
        "\n",
        "def median(list):\n",
        "  list.sort()\n",
        "  if (len(list)%2) == 0:\n",
        "    return ((list[(len(list)//2)-1] + list[len(list)//2]) / 2)\n",
        "  else:\n",
        "    return list[len(list)//2]\n",
        "\n",
        "print(median([1,2,3]))\n",
        "print(median([1,2,3,4]))\n",
        "print(median([1,2,3,4,5]))\n",
        "print(median([1,2,3,4,5,6]))"
      ],
      "execution_count": 4,
      "outputs": [
        {
          "output_type": "stream",
          "text": [
            "2\n",
            "2.5\n",
            "3\n",
            "3.5\n"
          ],
          "name": "stdout"
        }
      ]
    }
  ]
}