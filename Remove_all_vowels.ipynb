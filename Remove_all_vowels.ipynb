{
  "nbformat": 4,
  "nbformat_minor": 0,
  "metadata": {
    "colab": {
      "name": "Remove all vowels.ipynb",
      "provenance": [],
      "authorship_tag": "ABX9TyOYrYOiSeJLDta9jZInjC+a",
      "include_colab_link": true
    },
    "kernelspec": {
      "name": "python3",
      "display_name": "Python 3"
    },
    "language_info": {
      "name": "python"
    }
  },
  "cells": [
    {
      "cell_type": "markdown",
      "metadata": {
        "id": "view-in-github",
        "colab_type": "text"
      },
      "source": [
        "<a href=\"https://colab.research.google.com/github/ihsanulcode/Python3/blob/main/Remove_all_vowels.ipynb\" target=\"_parent\"><img src=\"https://colab.research.google.com/assets/colab-badge.svg\" alt=\"Open In Colab\"/></a>"
      ]
    },
    {
      "cell_type": "code",
      "metadata": {
        "colab": {
          "base_uri": "https://localhost:8080/"
        },
        "id": "bS7BKDjLR5Yo",
        "outputId": "43583642-7fed-47b9-9c3f-176fb627c67e"
      },
      "source": [
        "#Write a Python program to remove all vowels from a given string\n",
        "def removeVowels(text):\n",
        "  vowels = \"AEIOUaeiou\"\n",
        "  return \"\".join(i for i in text if not i in vowels)\n",
        "\n",
        "print(removeVowels(\"Python\"))"
      ],
      "execution_count": 1,
      "outputs": [
        {
          "output_type": "stream",
          "text": [
            "Pythn\n"
          ],
          "name": "stdout"
        }
      ]
    }
  ]
}