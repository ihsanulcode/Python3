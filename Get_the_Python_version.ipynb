{
  "nbformat": 4,
  "nbformat_minor": 0,
  "metadata": {
    "colab": {
      "name": "Get the Python version.ipynb",
      "provenance": [],
      "authorship_tag": "ABX9TyPzu7vtT6EY262QlA7rCFXt",
      "include_colab_link": true
    },
    "kernelspec": {
      "name": "python3",
      "display_name": "Python 3"
    },
    "language_info": {
      "name": "python"
    }
  },
  "cells": [
    {
      "cell_type": "markdown",
      "metadata": {
        "id": "view-in-github",
        "colab_type": "text"
      },
      "source": [
        "<a href=\"https://colab.research.google.com/github/ihsanulcode/Python3/blob/main/Get_the_Python_version.ipynb\" target=\"_parent\"><img src=\"https://colab.research.google.com/assets/colab-badge.svg\" alt=\"Open In Colab\"/></a>"
      ]
    },
    {
      "cell_type": "code",
      "metadata": {
        "colab": {
          "base_uri": "https://localhost:8080/"
        },
        "id": "TqmsJD1n43r4",
        "outputId": "66d13789-b0ba-407f-db06-86a803887456"
      },
      "source": [
        "import sys\n",
        "print(\"Python version:\")\n",
        "print(sys.version)\n",
        "print(\"Version info:\")\n",
        "print(sys.version_info)"
      ],
      "execution_count": 2,
      "outputs": [
        {
          "output_type": "stream",
          "text": [
            "Python version:\n",
            "3.7.11 (default, Jul  3 2021, 18:01:19) \n",
            "[GCC 7.5.0]\n",
            "Version info:\n",
            "sys.version_info(major=3, minor=7, micro=11, releaselevel='final', serial=0)\n"
          ],
          "name": "stdout"
        }
      ]
    }
  ]
}