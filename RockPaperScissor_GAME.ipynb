{
  "nbformat": 4,
  "nbformat_minor": 0,
  "metadata": {
    "colab": {
      "name": "RockPaperScissor-GAME.ipynb",
      "provenance": [],
      "authorship_tag": "ABX9TyPuheed3ktPoXoJXww8jiGx",
      "include_colab_link": true
    },
    "kernelspec": {
      "name": "python3",
      "display_name": "Python 3"
    },
    "language_info": {
      "name": "python"
    }
  },
  "cells": [
    {
      "cell_type": "markdown",
      "metadata": {
        "id": "view-in-github",
        "colab_type": "text"
      },
      "source": [
        "<a href=\"https://colab.research.google.com/github/ihsanulcode/Python3/blob/main/RockPaperScissor_GAME.ipynb\" target=\"_parent\"><img src=\"https://colab.research.google.com/assets/colab-badge.svg\" alt=\"Open In Colab\"/></a>"
      ]
    },
    {
      "cell_type": "code",
      "metadata": {
        "colab": {
          "base_uri": "https://localhost:8080/"
        },
        "id": "PrQyVCVFDR3I",
        "outputId": "163bf971-333e-4662-8528-86edfc2ef3f9"
      },
      "source": [
        "#Rock,paper,scissor game\n",
        "\n",
        "import random\n",
        "print(\"1. Rock\")\n",
        "print(\"2. Paper\")\n",
        "print(\"3. Scissor\")\n",
        "player = int(input())\n",
        "computer = random.randrange(1,4)\n",
        "\n",
        "if(player is 1):\n",
        "  if(computer is 1):\n",
        "    print(\"Player: Rock | Computer: Rock\"+\"\\nIt's a draw!\")\n",
        "  elif(computer is 2):\n",
        "    print(\"Player: Rock | Computer: Paper\"+\"\\nComputer win!\")\n",
        "  elif(computer is 3):\n",
        "    print(\"Player: Rock | Computer: Scissor\"+\"\\nPlayer win!\")\n",
        "elif(player is 2):\n",
        "  if(computer is 1):\n",
        "    print(\"Player: Paper | Computer: Rock\"+\"\\nPlayer win!\")\n",
        "  elif(computer is 2):\n",
        "    print(\"Player: Paper | Computer: Paper\"+\"\\nIt's a draw!\")\n",
        "  elif(computer is 3):\n",
        "    print(\"Player: Paper | Computer: Scissor\"+\"\\nComputer win!\")\n",
        "elif(player is 3):\n",
        "  if(computer is 1):\n",
        "    print(\"Player: Scissor | Computer: Rock\"+\"\\nComputer win!\")\n",
        "  elif(computer is 2):\n",
        "    print(\"Player: Scissor | Computer: Paper\"+\"\\nPlayer win!\")\n",
        "  elif(computer is 3):\n",
        "    print(\"Player: Scissor | Computer: Scissor\"+\"\\nIt's a draw!\")\n",
        "else:\n",
        "  print(\"\\nCheating! Play again!\")"
      ],
      "execution_count": 7,
      "outputs": [
        {
          "output_type": "stream",
          "text": [
            "1. Rock\n",
            "2. Paper\n",
            "3. Scissor\n",
            "2\n",
            "Player: Paper | Computer: Scissor\n",
            "Computer win!\n"
          ],
          "name": "stdout"
        }
      ]
    }
  ]
}