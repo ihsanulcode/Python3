{
  "nbformat": 4,
  "nbformat_minor": 0,
  "metadata": {
    "colab": {
      "name": "Untitled2.ipynb",
      "provenance": [],
      "authorship_tag": "ABX9TyPHxYkerO1iG6uVgr90K24O",
      "include_colab_link": true
    },
    "kernelspec": {
      "name": "python3",
      "display_name": "Python 3"
    },
    "language_info": {
      "name": "python"
    }
  },
  "cells": [
    {
      "cell_type": "markdown",
      "metadata": {
        "id": "view-in-github",
        "colab_type": "text"
      },
      "source": [
        "<a href=\"https://colab.research.google.com/github/ihsanulcode/Python3/blob/main/List_functionality.ipynb\" target=\"_parent\"><img src=\"https://colab.research.google.com/assets/colab-badge.svg\" alt=\"Open In Colab\"/></a>"
      ]
    },
    {
      "cell_type": "code",
      "metadata": {
        "colab": {
          "base_uri": "https://localhost:8080/"
        },
        "id": "-3OkCdYWioGz",
        "outputId": "77ec2b01-960e-4f8d-aafc-765ca0fcf756"
      },
      "source": [
        "#pop item from list \n",
        "\n",
        "data = [1,2,3,4,5]\n",
        "print(\"List: \",data)\n",
        "print(\"pop 0th index: \",data.pop(0))\n",
        "print(\"current list: \",data)"
      ],
      "execution_count": 20,
      "outputs": [
        {
          "output_type": "stream",
          "text": [
            "List:  [1, 2, 3, 4, 5]\n",
            "pop 0th index:  1\n",
            "current list:  [2, 3, 4, 5]\n"
          ],
          "name": "stdout"
        }
      ]
    },
    {
      "cell_type": "code",
      "metadata": {
        "colab": {
          "base_uri": "https://localhost:8080/"
        },
        "id": "h9b4cWNei4rh",
        "outputId": "451d9346-34a3-42fa-a850-a7e07667d6c3"
      },
      "source": [
        "#append / insert  item\n",
        "\n",
        "data = [1,2,3]\n",
        "print(\"List: \",data)\n",
        "print(\"append 4\")\n",
        "data.append(4)\n",
        "print(\"insert 5\")\n",
        "data.insert(4,5)\n",
        "print(\"current list: \",data)"
      ],
      "execution_count": 25,
      "outputs": [
        {
          "output_type": "stream",
          "text": [
            "List:  [1, 2, 3]\n",
            "append 4\n",
            "insert 5\n",
            "current list:  [1, 2, 3, 4, 5]\n"
          ],
          "name": "stdout"
        }
      ]
    },
    {
      "cell_type": "code",
      "metadata": {
        "colab": {
          "base_uri": "https://localhost:8080/"
        },
        "id": "SFlghbdGjuxV",
        "outputId": "e25eccbf-03b3-4c23-ab40-c181744e280e"
      },
      "source": [
        "#Extend()\tAdd all elements of a list to the another list\n",
        "\n",
        "data1 = [1,2,3]\n",
        "data2 = [4,5]\n",
        "\n",
        "data1.extend(data2)\n",
        "print(\"Extended list: \",data)"
      ],
      "execution_count": 27,
      "outputs": [
        {
          "output_type": "stream",
          "text": [
            "Extended list:  [1, 2, 3, 4, 5]\n"
          ],
          "name": "stdout"
        }
      ]
    },
    {
      "cell_type": "code",
      "metadata": {
        "colab": {
          "base_uri": "https://localhost:8080/"
        },
        "id": "kbne2OKokVf7",
        "outputId": "396af37c-8325-4981-b847-5fd06a03c856"
      },
      "source": [
        "#Remove()\n",
        "\n",
        "data = [1,2,3]\n",
        "print(\"List: \",data)\n",
        "print(\"remove 3\")\n",
        "data.remove(3)\n",
        "print(\"current list: \",data)\n",
        "print(\"remove 2\")\n",
        "data.remove(2)\n",
        "print(\"current list: \",data)"
      ],
      "execution_count": 28,
      "outputs": [
        {
          "output_type": "stream",
          "text": [
            "List:  [1, 2, 3]\n",
            "remove 3\n",
            "current list:  [1, 2]\n",
            "remove 2\n",
            "current list:  [1]\n"
          ],
          "name": "stdout"
        }
      ]
    },
    {
      "cell_type": "code",
      "metadata": {
        "colab": {
          "base_uri": "https://localhost:8080/"
        },
        "id": "iD2ty2ypkxNq",
        "outputId": "46dc5005-9281-4a22-c554-d29ea3bd947f"
      },
      "source": [
        "#Clear()\tRemoves all items from the list\n",
        "\n",
        "data = [1,2,3]\n",
        "print(\"current list: \",data)\n",
        "data.clear()\n",
        "print(\"current list: \",data)\n"
      ],
      "execution_count": 29,
      "outputs": [
        {
          "output_type": "stream",
          "text": [
            "current list:  [1, 2, 3]\n",
            "current list:  []\n"
          ],
          "name": "stdout"
        }
      ]
    },
    {
      "cell_type": "code",
      "metadata": {
        "colab": {
          "base_uri": "https://localhost:8080/"
        },
        "id": "X2WeaxvYk5g6",
        "outputId": "36b27644-862e-4cc6-d1fd-bd4c8f795d1e"
      },
      "source": [
        "#index() method only returns the first occurrence of the value.\n",
        "\n",
        "data = [1,2,3]\n",
        "n = data.index(2)\n",
        "print(n)"
      ],
      "execution_count": 30,
      "outputs": [
        {
          "output_type": "stream",
          "text": [
            "1\n"
          ],
          "name": "stdout"
        }
      ]
    },
    {
      "cell_type": "code",
      "metadata": {
        "colab": {
          "base_uri": "https://localhost:8080/"
        },
        "id": "JBv0ayrulO1y",
        "outputId": "466f506e-fe3f-463c-c5a5-d3feb1c70127"
      },
      "source": [
        "#copy() method returns a copy of the specified list.\n",
        "\n",
        "data = [1,2,3]\n",
        "copy_data = data.copy()\n",
        "print(\"data: \",data)\n",
        "print(\"copy_data: \",copy_data)"
      ],
      "execution_count": 31,
      "outputs": [
        {
          "output_type": "stream",
          "text": [
            "data:  [1, 2, 3]\n",
            "copy_data:  [1, 2, 3]\n"
          ],
          "name": "stdout"
        }
      ]
    },
    {
      "cell_type": "code",
      "metadata": {
        "colab": {
          "base_uri": "https://localhost:8080/"
        },
        "id": "DtScJH4Kljq6",
        "outputId": "5923acd5-1e19-45b1-f81a-48eadcac8d15"
      },
      "source": [
        "#count() method returns the number of elements with the specified value.\n",
        "\n",
        "data = [1,2,3,2,3,1]\n",
        "print(\"count 1: \",data.count(1))\n",
        "print(\"count 2: \",data.count(2))\n",
        "print(\"count 3: \",data.count(3))"
      ],
      "execution_count": 33,
      "outputs": [
        {
          "output_type": "stream",
          "text": [
            "count 1:  2\n",
            "count 2:  2\n",
            "count 3:  2\n"
          ],
          "name": "stdout"
        }
      ]
    },
    {
      "cell_type": "code",
      "metadata": {
        "colab": {
          "base_uri": "https://localhost:8080/"
        },
        "id": "EPBPBhiwl9Aa",
        "outputId": "22da60b5-304b-4b0f-fb39-b8e17e329f2b"
      },
      "source": [
        "#reverse() method reverses the sorting order of the elements.\n",
        "\n",
        "data = [1,2,3]\n",
        "print(\"data: \",data)\n",
        "data.reverse()\n",
        "print(\"reverse: \",data)\n"
      ],
      "execution_count": 34,
      "outputs": [
        {
          "output_type": "stream",
          "text": [
            "data:  [1, 2, 3]\n",
            "reverse:  [3, 2, 1]\n"
          ],
          "name": "stdout"
        }
      ]
    },
    {
      "cell_type": "code",
      "metadata": {
        "colab": {
          "base_uri": "https://localhost:8080/"
        },
        "id": "kMY-Ch-FmY-x",
        "outputId": "e3ff1bd6-daa8-4839-df37-c8c8a6bc75b0"
      },
      "source": [
        "#sort() method sorts the list ascending by default.\n",
        "\n",
        "data1 = [5,3,2,1,4]\n",
        "data2 = [1,2,3,2,3,1]\n",
        "cars = ['Ford', 'BMW', 'Volvo']\n",
        "courses = [\"CSE215\",\"CSE115\",\"CSE225\"]\n",
        "\n",
        "data1.sort()\n",
        "data2.sort()\n",
        "cars.sort()\n",
        "courses.sort()\n",
        "\n",
        "#print\n",
        "print(\"data1: \",data1)\n",
        "print(\"data2: \",data2)\n",
        "print(\"cars: \",cars)\n",
        "print(\"courses: \",courses)"
      ],
      "execution_count": 37,
      "outputs": [
        {
          "output_type": "stream",
          "text": [
            "data1:  [1, 2, 3, 4, 5]\n",
            "data2:  [1, 1, 2, 2, 3, 3]\n",
            "cars:  ['BMW', 'Ford', 'Volvo']\n",
            "courses:  ['CSE115', 'CSE215', 'CSE225']\n"
          ],
          "name": "stdout"
        }
      ]
    }
  ]
}