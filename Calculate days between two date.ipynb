{
  "nbformat": 4,
  "nbformat_minor": 0,
  "metadata": {
    "colab": {
      "name": "Untitled1.ipynb",
      "provenance": [],
      "authorship_tag": "ABX9TyOnhVI04ewWJXTIPy7U44S0",
      "include_colab_link": true
    },
    "kernelspec": {
      "name": "python3",
      "display_name": "Python 3"
    },
    "language_info": {
      "name": "python"
    }
  },
  "cells": [
    {
      "cell_type": "markdown",
      "metadata": {
        "id": "view-in-github",
        "colab_type": "text"
      },
      "source": [
        "<a href=\"https://colab.research.google.com/github/ihsanulcode/Python3/blob/main/Calculate%20days%20between%20two%20date.ipynb\" target=\"_parent\"><img src=\"https://colab.research.google.com/assets/colab-badge.svg\" alt=\"Open In Colab\"/></a>"
      ]
    },
    {
      "cell_type": "code",
      "metadata": {
        "colab": {
          "base_uri": "https://localhost:8080/"
        },
        "id": "tjvy-VXy_lX9",
        "outputId": "f628f96e-1ed6-4d1b-ce39-059c530511e7"
      },
      "source": [
        "#calculating differents between two dates\n",
        "\n",
        "from datetime import date\n",
        "date1 = date(2021, 7, 17)\n",
        "date2 = date(2021, 7, 21)\n",
        "delta = date2 - date1\n",
        "print(delta.days)\n"
      ],
      "execution_count": 12,
      "outputs": [
        {
          "output_type": "stream",
          "text": [
            "4\n"
          ],
          "name": "stdout"
        }
      ]
    },
    {
      "cell_type": "code",
      "metadata": {
        "colab": {
          "base_uri": "https://localhost:8080/"
        },
        "id": "43UC7WlaADMk",
        "outputId": "7957013b-6f44-4ec8-cff5-73d5ff80a311"
      },
      "source": [
        "#project: Exam date reminder!\n",
        "\n",
        "from datetime import date\n",
        "\n",
        "#getting event's date from user\n",
        "s = input(\"Enter date in YYYY-MM-DD format: \")\n",
        "year, month, day = map(int, s.split('-'))\n",
        "eventDate = datetime.date(year, month, day)\n",
        "\n",
        "#generating current date\n",
        "today = date.today()\n",
        "\n",
        "#printing dates\n",
        "print(\"Today's date:\", today)\n",
        "print(\"Event's date: \", eventDate)\n",
        "\n",
        "#calculating differents between two dates\n",
        "delta = eventDate-today\n",
        "print(\"Remaining days: \",delta.days)"
      ],
      "execution_count": 23,
      "outputs": [
        {
          "output_type": "stream",
          "text": [
            "Enter date in YYYY-MM-DD format: 2021-7-21\n",
            "Today's date: 2021-07-17\n",
            "Event's date:  2021-07-21\n",
            "Remaining days:  4\n"
          ],
          "name": "stdout"
        }
      ]
    }
  ]
}