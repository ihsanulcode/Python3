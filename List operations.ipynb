{
  "nbformat": 4,
  "nbformat_minor": 0,
  "metadata": {
    "colab": {
      "name": "List.ipynb",
      "provenance": [],
      "authorship_tag": "ABX9TyOYBbTSI9mYkK9Zh2FpDNNm",
      "include_colab_link": true
    },
    "kernelspec": {
      "name": "python3",
      "display_name": "Python 3"
    },
    "language_info": {
      "name": "python"
    }
  },
  "cells": [
    {
      "cell_type": "markdown",
      "metadata": {
        "id": "view-in-github",
        "colab_type": "text"
      },
      "source": [
        "<a href=\"https://colab.research.google.com/github/ihsanulcode/Python3/blob/main/List%20operations.ipynb\" target=\"_parent\"><img src=\"https://colab.research.google.com/assets/colab-badge.svg\" alt=\"Open In Colab\"/></a>"
      ]
    },
    {
      "cell_type": "code",
      "metadata": {
        "colab": {
          "base_uri": "https://localhost:8080/"
        },
        "id": "PcqGef0zG8wv",
        "outputId": "9a78048d-8a42-4a8e-84ef-8e85865ec73b"
      },
      "source": [
        "def sumOfList(list):\n",
        "  sum = 0;\n",
        "  for i in list:\n",
        "    sum+=i;\n",
        "  return sum;\n",
        "\n",
        "def MultiplicationOfList(list):\n",
        "  multi = 1;\n",
        "  for i in list:\n",
        "    multi *= i;\n",
        "  return multi;\n",
        "\n",
        "def AverageOfList(list):\n",
        "  return sumOfList(list)/len(list)\n",
        "\n",
        "def MedianOfList(list):\n",
        "  list.sort()\n",
        "  if (len(list)%2) == 0:\n",
        "    return ((list[(len(list)//2)-1] + list[len(list)//2]) / 2)\n",
        "  else:\n",
        "    return list[len(list)//2]\n",
        "\n",
        "def printList(list):\n",
        "  for i in list:\n",
        "    print(i, end =\" \")\n",
        "  print()\n",
        "\n",
        "size = int(input(\"Enter list size: \"))\n",
        "list = []\n",
        "\n",
        "for i in range(size):\n",
        "  n = int(input())\n",
        "  list.append(n)\n",
        "\n",
        "choice = -1\n",
        "while (choice != 0):\n",
        "  print(\"[1] Find Sum of List\")\n",
        "  print(\"[2] Find Multiplication of List\")\n",
        "  print(\"[3] Find Average of List\")\n",
        "  print(\"[4] Find Median od List\")\n",
        "  print(\"[5] Print List\")\n",
        "  print(\"[0] Exit Program\")\n",
        "  choice = int(input(\"Enter your choice: \"))\n",
        "\n",
        "  if(choice==1):\n",
        "    print(\"Sum of list: \"+str(sumOfList(list)))\n",
        "  elif(choice==2):\n",
        "    print(\"Multiplication of list: \"+str(MultiplicationOfList(list)))\n",
        "  elif(choice==3):\n",
        "    print(\"Average of list: \"+str(AverageOfList(list)))\n",
        "  elif(choice==4):\n",
        "    print(\"Median of the list: \"+str(MedianOfList(list)))\n",
        "  elif(choice==5):\n",
        "    printList(list)\n",
        "  elif(choice==0):\n",
        "    print(\"Program exited\")\n",
        "  else:\n",
        "    print(\"Invalid choice!\")\n",
        "  "
      ],
      "execution_count": 8,
      "outputs": [
        {
          "output_type": "stream",
          "text": [
            "Enter list size: 3\n",
            "1\n",
            "2\n",
            "3\n",
            "[1] Find Sum of List\n",
            "[2] Find Multiplication of List\n",
            "[3] Find Average of List\n",
            "[4] Find Median od List\n",
            "[5] Print List\n",
            "[0] Exit Program\n",
            "Enter your choice: 5\n",
            "1 2 3 \n",
            "[1] Find Sum of List\n",
            "[2] Find Multiplication of List\n",
            "[3] Find Average of List\n",
            "[4] Find Median od List\n",
            "[5] Print List\n",
            "[0] Exit Program\n",
            "Enter your choice: 1\n",
            "Sum of list: 6\n",
            "[1] Find Sum of List\n",
            "[2] Find Multiplication of List\n",
            "[3] Find Average of List\n",
            "[4] Find Median od List\n",
            "[5] Print List\n",
            "[0] Exit Program\n",
            "Enter your choice: 2\n",
            "Multiplication of list: 6\n",
            "[1] Find Sum of List\n",
            "[2] Find Multiplication of List\n",
            "[3] Find Average of List\n",
            "[4] Find Median od List\n",
            "[5] Print List\n",
            "[0] Exit Program\n",
            "Enter your choice: 3\n",
            "Average of list: 2.0\n",
            "[1] Find Sum of List\n",
            "[2] Find Multiplication of List\n",
            "[3] Find Average of List\n",
            "[4] Find Median od List\n",
            "[5] Print List\n",
            "[0] Exit Program\n",
            "Enter your choice: 4\n",
            "Median of the list: 2\n",
            "[1] Find Sum of List\n",
            "[2] Find Multiplication of List\n",
            "[3] Find Average of List\n",
            "[4] Find Median od List\n",
            "[5] Print List\n",
            "[0] Exit Program\n",
            "Enter your choice: 0\n",
            "Program exited\n"
          ],
          "name": "stdout"
        }
      ]
    }
  ]
}