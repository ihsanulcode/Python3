{
  "nbformat": 4,
  "nbformat_minor": 0,
  "metadata": {
    "colab": {
      "name": "Day1.ipynb",
      "provenance": []
    },
    "kernelspec": {
      "name": "python3",
      "display_name": "Python 3"
    },
    "language_info": {
      "name": "python"
    }
  },
  "cells": [
    {
      "cell_type": "code",
      "metadata": {
        "colab": {
          "base_uri": "https://localhost:8080/"
        },
        "id": "kNxXl9xm7Bc0",
        "outputId": "b53096fa-d683-4668-f3d0-7353ede81d94"
      },
      "source": [
        "#Write a Python program to count the number of equal numbers pair given integers.\n",
        "\n",
        "def countEqualpairs(list):\n",
        "  temp = set(list)\n",
        "  if(len(list)==len(temp)):\n",
        "    return 0\n",
        "  else:\n",
        "    return len(list)-len(temp)\n",
        "\n",
        "print(countEqualpairs([1,1,2,2,3]))\n",
        "print(countEqualpairs([1,2,3,3,4]))"
      ],
      "execution_count": null,
      "outputs": [
        {
          "output_type": "stream",
          "text": [
            "2\n",
            "1\n"
          ],
          "name": "stdout"
        }
      ]
    },
    {
      "cell_type": "code",
      "metadata": {
        "colab": {
          "base_uri": "https://localhost:8080/"
        },
        "id": "vnBCh7nh_Ws_",
        "outputId": "433a5636-4a71-4612-9ec4-61d3b03f30ad"
      },
      "source": [
        "#Convert to upper case char by car\n",
        "s = \"python\"\n",
        "temp = \"\"\n",
        "for i in range(len(s)):\n",
        "  temp += str(s[i].upper())\n",
        "\n",
        "print(temp)"
      ],
      "execution_count": null,
      "outputs": [
        {
          "output_type": "stream",
          "text": [
            "PYTHON\n"
          ],
          "name": "stdout"
        }
      ]
    },
    {
      "cell_type": "code",
      "metadata": {
        "colab": {
          "base_uri": "https://localhost:8080/"
        },
        "id": "2P69T57OCrcI",
        "outputId": "3b076f4d-b3a4-48df-90ff-da870d8cc6dc"
      },
      "source": [
        "#Write a Python program to remove all vowels from a given string\n",
        "def removeVowels(text):\n",
        "  vowels = \"AEIOUaeiou\"\n",
        "  return \"\".join(i for i in text if not i in vowels)\n",
        "\n",
        "print(removeVowels(\"Python\"))"
      ],
      "execution_count": null,
      "outputs": [
        {
          "output_type": "stream",
          "text": [
            "Pythn\n"
          ],
          "name": "stdout"
        }
      ]
    },
    {
      "cell_type": "code",
      "metadata": {
        "id": "Bwwrzaqb9uTu"
      },
      "source": [
        "#prime\n",
        "def isPrime(num):\n",
        "  for i in range(2,num):\n",
        "    if(num%i) == 0:\n",
        "      return False\n",
        "    else:\n",
        "      return True\n",
        "\n",
        "for i in range(10,51):\n",
        "  if(isPrime(i)):\n",
        "    print(i)"
      ],
      "execution_count": null,
      "outputs": []
    }
  ]
}