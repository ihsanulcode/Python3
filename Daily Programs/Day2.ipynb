{
  "nbformat": 4,
  "nbformat_minor": 0,
  "metadata": {
    "colab": {
      "name": "Day2.ipynb",
      "provenance": [],
      "collapsed_sections": []
    },
    "kernelspec": {
      "name": "python3",
      "display_name": "Python 3"
    },
    "language_info": {
      "name": "python"
    }
  },
  "cells": [
    {
      "cell_type": "code",
      "metadata": {
        "colab": {
          "base_uri": "https://localhost:8080/"
        },
        "id": "hbos9GPSUPlL",
        "outputId": "5f0e054f-833c-4460-b62f-239d65506902"
      },
      "source": [
        "#Shuffle list\n",
        "from random import shuffle\n",
        "list = [1,2,3]\n",
        "shuffle(list)\n",
        "print(list)"
      ],
      "execution_count": 4,
      "outputs": [
        {
          "output_type": "stream",
          "text": [
            "[3, 1, 2]\n"
          ],
          "name": "stdout"
        }
      ]
    },
    {
      "cell_type": "code",
      "metadata": {
        "colab": {
          "base_uri": "https://localhost:8080/"
        },
        "id": "HJKaArXOVkWy",
        "outputId": "9acdd838-8e82-41ff-bc11-cfb09a18597b"
      },
      "source": [
        "#concate list\n",
        "list1 = [1,2,3]\n",
        "list2 = [4,5]\n",
        "print(list1+list2)"
      ],
      "execution_count": 5,
      "outputs": [
        {
          "output_type": "stream",
          "text": [
            "[1, 2, 3, 4, 5]\n"
          ],
          "name": "stdout"
        }
      ]
    },
    {
      "cell_type": "code",
      "metadata": {
        "colab": {
          "base_uri": "https://localhost:8080/"
        },
        "id": "NYvikGIbWB35",
        "outputId": "54935796-5b81-4586-830e-a53c6d261138"
      },
      "source": [
        "#Find index of specific value \n",
        "num =[10, 30, 4, -6]\n",
        "print(num.index(30))"
      ],
      "execution_count": 6,
      "outputs": [
        {
          "output_type": "stream",
          "text": [
            "1\n"
          ],
          "name": "stdout"
        }
      ]
    },
    {
      "cell_type": "code",
      "metadata": {
        "colab": {
          "base_uri": "https://localhost:8080/"
        },
        "id": "jlPGg0FJXgRv",
        "outputId": "da70f62a-3a7b-483b-db72-d246668086a0"
      },
      "source": [
        "#Append a list to the second list\n",
        "list1 = [1, 2, 3, 0]\n",
        "list2 = ['Red', 'Green', 'Black']\n",
        "final = list1 + list2\n",
        "print(final)"
      ],
      "execution_count": 7,
      "outputs": [
        {
          "output_type": "stream",
          "text": [
            "[1, 2, 3, 0, 'Red', 'Green', 'Black']\n"
          ],
          "name": "stdout"
        }
      ]
    },
    {
      "cell_type": "code",
      "metadata": {
        "colab": {
          "base_uri": "https://localhost:8080/"
        },
        "id": "G_jB31zzX1ka",
        "outputId": "288f687c-8705-4025-89bf-06da4f1e6758"
      },
      "source": [
        "#Select an item randomly from a list\n",
        "import random\n",
        "list = [\"CSE115\", \"CSE215\", \"CSE225\", \"CSE231\"]\n",
        "print(random.choice(list))"
      ],
      "execution_count": 13,
      "outputs": [
        {
          "output_type": "stream",
          "text": [
            "CSE231\n"
          ],
          "name": "stdout"
        }
      ]
    },
    {
      "cell_type": "code",
      "metadata": {
        "colab": {
          "base_uri": "https://localhost:8080/"
        },
        "id": "43e8g3p6YYnR",
        "outputId": "d8b3f58c-ecc1-4ae6-a842-32e22d66c0dd"
      },
      "source": [
        "#Select an item randomly from a list\n",
        "import random\n",
        "print(random.choice([\"CSE115\", \"CSE215\", \"CSE225\", \"CSE231\"]))"
      ],
      "execution_count": 16,
      "outputs": [
        {
          "output_type": "stream",
          "text": [
            "CSE225\n"
          ],
          "name": "stdout"
        }
      ]
    },
    {
      "cell_type": "code",
      "metadata": {
        "colab": {
          "base_uri": "https://localhost:8080/"
        },
        "id": "fFYKMAD1gHEe",
        "outputId": "de736b73-f256-4e17-adeb-a681eebaad8a"
      },
      "source": [
        "#pattern\n",
        "for i in range(1,11):\n",
        "  print(\"*\"*i)"
      ],
      "execution_count": 17,
      "outputs": [
        {
          "output_type": "stream",
          "text": [
            "*\n",
            "**\n",
            "***\n",
            "****\n",
            "*****\n",
            "******\n",
            "*******\n",
            "********\n",
            "*********\n",
            "**********\n"
          ],
          "name": "stdout"
        }
      ]
    }
  ]
}